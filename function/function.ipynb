{
  "nbformat": 4,
  "nbformat_minor": 0,
  "metadata": {
    "colab": {
      "provenance": [],
      "authorship_tag": "ABX9TyOCqaoHjDMQWjeac0s365iG",
      "include_colab_link": true
    },
    "kernelspec": {
      "name": "python3",
      "display_name": "Python 3"
    },
    "language_info": {
      "name": "python"
    }
  },
  "cells": [
    {
      "cell_type": "markdown",
      "metadata": {
        "id": "view-in-github",
        "colab_type": "text"
      },
      "source": [
        "<a href=\"https://colab.research.google.com/github/trailblazer015/learn-python/blob/main/function/function.ipynb\" target=\"_parent\"><img src=\"https://colab.research.google.com/assets/colab-badge.svg\" alt=\"Open In Colab\"/></a>"
      ]
    },
    {
      "cell_type": "code",
      "execution_count": 5,
      "metadata": {
        "colab": {
          "base_uri": "https://localhost:8080/"
        },
        "id": "XNoA24ZrPYiI",
        "outputId": "6798f784-3580-4104-aabb-2e61ea9f4c3c"
      },
      "outputs": [
        {
          "output_type": "stream",
          "name": "stdout",
          "text": [
            "task completed\n",
            "2025-02-07 02:49:46.380785\n"
          ]
        }
      ],
      "source": [
        "from datetime import datetime\n",
        "#print current time\n",
        "def print_time():\n",
        "  print('task completed')\n",
        "  print(datetime.now())\n",
        "\n",
        "print_time()"
      ]
    },
    {
      "cell_type": "code",
      "source": [
        "#function with parameter\n",
        "def print_time(task_name):\n",
        "  print(task_name)\n",
        "  print(datetime.now())\n",
        "\n",
        "print_time('yes')"
      ],
      "metadata": {
        "colab": {
          "base_uri": "https://localhost:8080/"
        },
        "id": "kaBnCMjEU0Ql",
        "outputId": "d667d727-367d-4968-bac2-a7667a03d2dc"
      },
      "execution_count": 8,
      "outputs": [
        {
          "output_type": "stream",
          "name": "stdout",
          "text": [
            "yes\n",
            "2025-02-07 02:54:17.062569\n"
          ]
        }
      ]
    },
    {
      "cell_type": "code",
      "source": [
        "#function returns a value\n",
        "def get_initial(name):\n",
        "  initial = name[0:1].upper()\n",
        "  return initial\n",
        "\n",
        "first_name = input('enter your first name: ')\n",
        "first_name_initial = get_initial(first_name)\n",
        "last_name = input('enter your last name: ')\n",
        "last_name_initial = get_initial(last_name)\n",
        "print('your initials are'+first_name_initial+last_name_initial)"
      ],
      "metadata": {
        "colab": {
          "base_uri": "https://localhost:8080/"
        },
        "id": "xu-I26nnWADR",
        "outputId": "2513636f-a2ab-47ce-8f1b-170d2837e793"
      },
      "execution_count": 9,
      "outputs": [
        {
          "output_type": "stream",
          "name": "stdout",
          "text": [
            "enter your first name: ehui\n",
            "enter your last name: bfhsui\n",
            "your initials areEB\n"
          ]
        }
      ]
    }
  ]
}