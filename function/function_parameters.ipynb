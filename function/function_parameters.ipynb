{
  "nbformat": 4,
  "nbformat_minor": 0,
  "metadata": {
    "colab": {
      "provenance": [],
      "authorship_tag": "ABX9TyPLd1grWzy7U9xcx+VegKDZ",
      "include_colab_link": true
    },
    "kernelspec": {
      "name": "python3",
      "display_name": "Python 3"
    },
    "language_info": {
      "name": "python"
    }
  },
  "cells": [
    {
      "cell_type": "markdown",
      "metadata": {
        "id": "view-in-github",
        "colab_type": "text"
      },
      "source": [
        "<a href=\"https://colab.research.google.com/github/trailblazer015/learn-python/blob/main/function/function_parameters.ipynb\" target=\"_parent\"><img src=\"https://colab.research.google.com/assets/colab-badge.svg\" alt=\"Open In Colab\"/></a>"
      ]
    },
    {
      "cell_type": "code",
      "execution_count": 4,
      "metadata": {
        "colab": {
          "base_uri": "https://localhost:8080/"
        },
        "id": "wAmdBmMsou_p",
        "outputId": "1e5ebc61-dbbd-4d84-a3ac-6d878ddd1bc7"
      },
      "outputs": [
        {
          "output_type": "stream",
          "name": "stdout",
          "text": [
            "Enter your first name: susan\n",
            "your initial is: S\n",
            "your initial is: S\n"
          ]
        }
      ],
      "source": [
        "def get_initial(name,force_uppercase=True):\n",
        "  if force_uppercase:\n",
        "    initial=name[0:1].upper()\n",
        "  else:\n",
        "    initial=name[0:1]\n",
        "  return initial\n",
        "\n",
        "first_name=input(\"Enter your first name: \")\n",
        "print('your initial is: '+get_initial(first_name))\n",
        "print('your initial is: '+get_initial(force_uppercase=True,name=first_name))"
      ]
    }
  ]
}