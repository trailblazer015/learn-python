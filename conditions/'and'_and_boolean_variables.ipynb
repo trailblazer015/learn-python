{
  "nbformat": 4,
  "nbformat_minor": 0,
  "metadata": {
    "colab": {
      "provenance": [],
      "authorship_tag": "ABX9TyMXMNeK66E9EXW5zzxtjj1L",
      "include_colab_link": true
    },
    "kernelspec": {
      "name": "python3",
      "display_name": "Python 3"
    },
    "language_info": {
      "name": "python"
    }
  },
  "cells": [
    {
      "cell_type": "markdown",
      "metadata": {
        "id": "view-in-github",
        "colab_type": "text"
      },
      "source": [
        "<a href=\"https://colab.research.google.com/github/trailblazer015/learn-python/blob/main/conditions/'and'_and_boolean_variables.ipynb\" target=\"_parent\"><img src=\"https://colab.research.google.com/assets/colab-badge.svg\" alt=\"Open In Colab\"/></a>"
      ]
    },
    {
      "cell_type": "code",
      "execution_count": 4,
      "metadata": {
        "colab": {
          "base_uri": "https://localhost:8080/"
        },
        "id": "FyqkZX6bDbhS",
        "outputId": "9f791909-b3e9-444b-e408-3f6e439d1798"
      },
      "outputs": [
        {
          "output_type": "stream",
          "name": "stdout",
          "text": [
            "what is your grade point average0.5\n",
            "what is your lowest grade0.3\n",
            "you dont get bonus\n"
          ]
        }
      ],
      "source": [
        "#'and' and Boolean variables\n",
        "gpa=float(input('what is your grade point average'))\n",
        "lowest_grade=float(input('what is your lowest grade'))\n",
        "if gpa>=0.8 and lowest_grade>=0.6:\n",
        "  bonus=True\n",
        "else:\n",
        "  bonus=False\n",
        "if bonus:\n",
        "  print('you get bonus')\n",
        "else:\n",
        "  print('you dont get bonus')"
      ]
    }
  ]
}