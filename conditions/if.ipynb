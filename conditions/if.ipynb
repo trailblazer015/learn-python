{
  "nbformat": 4,
  "nbformat_minor": 0,
  "metadata": {
    "colab": {
      "provenance": [],
      "authorship_tag": "ABX9TyO4LDVrwzlntQHMZjZY+sjI",
      "include_colab_link": true
    },
    "kernelspec": {
      "name": "python3",
      "display_name": "Python 3"
    },
    "language_info": {
      "name": "python"
    }
  },
  "cells": [
    {
      "cell_type": "markdown",
      "metadata": {
        "id": "view-in-github",
        "colab_type": "text"
      },
      "source": [
        "<a href=\"https://colab.research.google.com/github/trailblazer015/learn-python/blob/main/conditions/if.ipynb\" target=\"_parent\"><img src=\"https://colab.research.google.com/assets/colab-badge.svg\" alt=\"Open In Colab\"/></a>"
      ]
    },
    {
      "cell_type": "code",
      "execution_count": 5,
      "metadata": {
        "colab": {
          "base_uri": "https://localhost:8080/"
        },
        "id": "mlKYaWuohpha",
        "outputId": "e9fc6c85-6206-48a4-a0e5-f33c56722fbd"
      },
      "outputs": [
        {
          "output_type": "stream",
          "name": "stdout",
          "text": [
            "how much did you pay?0.5\n",
            "tax is: 0.0\n",
            "total is: 0.5\n"
          ]
        }
      ],
      "source": [
        "price=input('how much did you pay?')\n",
        "price=float(price)\n",
        "if price>=1.00:\n",
        "  tax=0.07\n",
        "else:\n",
        "  tax=0.00\n",
        "\n",
        "print('tax is: '+str(tax))\n",
        "print('total is: '+str(price*tax+price))"
      ]
    },
    {
      "cell_type": "code",
      "source": [
        "#string comparison are case sensitive\n",
        "country=input('please enter the name of your conutry')\n",
        "if country.lower()=='china':\n",
        "  print('pandas are so cute')\n",
        "else:\n",
        "  print('you are not chinese')"
      ],
      "metadata": {
        "colab": {
          "base_uri": "https://localhost:8080/"
        },
        "id": "mnKnCBkqyHjm",
        "outputId": "19212ab7-4876-4c80-c19a-f6d27992b05c"
      },
      "execution_count": 7,
      "outputs": [
        {
          "output_type": "stream",
          "name": "stdout",
          "text": [
            "please enter the name of your conutryCHINA\n",
            "pandas are so cute\n"
          ]
        }
      ]
    }
  ]
}