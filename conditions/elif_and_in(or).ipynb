{
  "nbformat": 4,
  "nbformat_minor": 0,
  "metadata": {
    "colab": {
      "provenance": [],
      "authorship_tag": "ABX9TyPqCXQv1EKGUlJm90PIggQm",
      "include_colab_link": true
    },
    "kernelspec": {
      "name": "python3",
      "display_name": "Python 3"
    },
    "language_info": {
      "name": "python"
    }
  },
  "cells": [
    {
      "cell_type": "markdown",
      "metadata": {
        "id": "view-in-github",
        "colab_type": "text"
      },
      "source": [
        "<a href=\"https://colab.research.google.com/github/trailblazer015/learn-python/blob/main/conditions/elif_and_in.ipynb\" target=\"_parent\"><img src=\"https://colab.research.google.com/assets/colab-badge.svg\" alt=\"Open In Colab\"/></a>"
      ]
    },
    {
      "cell_type": "code",
      "execution_count": 8,
      "metadata": {
        "colab": {
          "base_uri": "https://localhost:8080/"
        },
        "id": "wbJfMDVzv0Vp",
        "outputId": "7afa0a8b-4d2c-49cc-eb47-0777f92dab06"
      },
      "outputs": [
        {
          "output_type": "stream",
          "name": "stdout",
          "text": [
            "what country do you live in?CHINA\n",
            "what province do you live in?Beijing\n",
            "0.05\n"
          ]
        }
      ],
      "source": [
        "country=input('what country do you live in?')\n",
        "if country.lower()=='china':\n",
        "  province=input('what province do you live in?')\n",
        "  if province.lower() in('beijing','shanghai','tianjin'):\n",
        "    tax=0.05\n",
        "  elif province.lower()=='sichuan' or province=='hebei':\n",
        "    tax=0.1\n",
        "  else:\n",
        "    tax=0.15\n",
        "else:\n",
        "  tax=0\n",
        "print(tax)"
      ]
    }
  ]
}
