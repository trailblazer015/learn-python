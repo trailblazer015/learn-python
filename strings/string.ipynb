{
  "nbformat": 4,
  "nbformat_minor": 0,
  "metadata": {
    "colab": {
      "provenance": [],
      "authorship_tag": "ABX9TyNzvty15H2Xiv01Er4Hy8HQ",
      "include_colab_link": true
    },
    "kernelspec": {
      "name": "python3",
      "display_name": "Python 3"
    },
    "language_info": {
      "name": "python"
    }
  },
  "cells": [
    {
      "cell_type": "markdown",
      "metadata": {
        "id": "view-in-github",
        "colab_type": "text"
      },
      "source": [
        "<a href=\"https://colab.research.google.com/github/trailblazer015/learn-python/blob/main/strings/string.ipynb\" target=\"_parent\"><img src=\"https://colab.research.google.com/assets/colab-badge.svg\" alt=\"Open In Colab\"/></a>"
      ]
    },
    {
      "cell_type": "code",
      "execution_count": null,
      "metadata": {
        "colab": {
          "base_uri": "https://localhost:8080/"
        },
        "id": "j0EvcCaiWjKp",
        "outputId": "f2e4ffc7-e161-4bb9-86e2-810b6f8d0126"
      },
      "outputs": [
        {
          "output_type": "stream",
          "name": "stdout",
          "text": [
            "hello E B\n"
          ]
        }
      ],
      "source": [
        "first_name='E'\n",
        "last_name='B'\n",
        "print('hello '+first_name+' '+last_name)"
      ]
    },
    {
      "cell_type": "code",
      "source": [
        "sentence='nice to meet you'\n",
        "print(sentence.upper())\n",
        "print(sentence.lower())\n",
        "print(sentence.capitalize())\n",
        "print(sentence.count('e'))"
      ],
      "metadata": {
        "colab": {
          "base_uri": "https://localhost:8080/"
        },
        "id": "blOiE6NiYBIS",
        "outputId": "bdbbc831-0fc5-49e8-f1b7-216630009696"
      },
      "execution_count": null,
      "outputs": [
        {
          "output_type": "stream",
          "name": "stdout",
          "text": [
            "NICE TO MEET YOU\n",
            "nice to meet you\n",
            "Nice to meet you\n",
            "3\n"
          ]
        }
      ]
    },
    {
      "cell_type": "code",
      "source": [
        "# prompt: ask about the user's first_name and last_name, then print hello + capitalized name\n",
        "\n",
        "first_name = input(\"Enter your first name: \")\n",
        "last_name = input(\"Enter your last name: \")\n",
        "\n",
        "print('hello ' + first_name.capitalize() + ' ' + last_name.capitalize())\n"
      ],
      "metadata": {
        "colab": {
          "base_uri": "https://localhost:8080/"
        },
        "id": "0uFXXV8nZi5u",
        "outputId": "29bc17da-4147-4d35-d1ed-40261aad6652"
      },
      "execution_count": null,
      "outputs": [
        {
          "output_type": "stream",
          "name": "stdout",
          "text": [
            "Enter your first name: EEEE\n",
            "Enter your last name: BBBB\n",
            "hello Eeee Bbbb\n"
          ]
        }
      ]
    }
  ]
}