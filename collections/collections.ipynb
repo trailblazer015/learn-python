{
  "nbformat": 4,
  "nbformat_minor": 0,
  "metadata": {
    "colab": {
      "provenance": [],
      "authorship_tag": "ABX9TyNEGD4VypCfKiNQX/wEL/u4",
      "include_colab_link": true
    },
    "kernelspec": {
      "name": "python3",
      "display_name": "Python 3"
    },
    "language_info": {
      "name": "python"
    }
  },
  "cells": [
    {
      "cell_type": "markdown",
      "metadata": {
        "id": "view-in-github",
        "colab_type": "text"
      },
      "source": [
        "<a href=\"https://colab.research.google.com/github/trailblazer015/learn-python/blob/main/collections/collections.ipynb\" target=\"_parent\"><img src=\"https://colab.research.google.com/assets/colab-badge.svg\" alt=\"Open In Colab\"/></a>"
      ]
    },
    {
      "cell_type": "code",
      "execution_count": 3,
      "metadata": {
        "colab": {
          "base_uri": "https://localhost:8080/"
        },
        "id": "NKDfpYyaLnwY",
        "outputId": "b8fae463-2476-4781-a686-e92767d98077"
      },
      "outputs": [
        {
          "output_type": "stream",
          "name": "stdout",
          "text": [
            "{'first': 'christopher', 'last': 'harrison'}\n",
            "{'first': 'susan', 'last': 'ibach'}\n",
            "[{'first': 'christopher', 'last': 'harrison'}, {'first': 'susan', 'last': 'ibach'}]\n",
            "[{'first': 'christopher', 'last': 'harrison'}, {'first': 'susan', 'last': 'ibach'}, {'first': 'bill', 'last': 'gates'}]\n",
            "[{'first': 'christopher', 'last': 'harrison'}, {'first': 'susan', 'last': 'ibach'}]\n"
          ]
        }
      ],
      "source": [
        "#dictionary, list\n",
        "christopher={}\n",
        "christopher['first']='christopher'\n",
        "christopher['last']='harrison'\n",
        "\n",
        "susan={'first':'susan','last':'ibach'}\n",
        "\n",
        "print(christopher)\n",
        "print(susan)\n",
        "\n",
        "people=[christopher,susan]\n",
        "print(people)\n",
        "\n",
        "people.append({'first':'bill','last':'gates'})\n",
        "print(people)\n",
        "\n",
        "presenters=people[0:2]\n",
        "print(presenters)\n"
      ]
    }
  ]
}