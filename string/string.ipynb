{
  "nbformat": 4,
  "nbformat_minor": 0,
  "metadata": {
    "colab": {
      "provenance": [],
      "authorship_tag": "ABX9TyMIr7aSwuxLRjPlI8l6IMTu",
      "include_colab_link": true
    },
    "kernelspec": {
      "name": "python3",
      "display_name": "Python 3"
    },
    "language_info": {
      "name": "python"
    }
  },
  "cells": [
    {
      "cell_type": "markdown",
      "metadata": {
        "id": "view-in-github",
        "colab_type": "text"
      },
      "source": [
        "<a href=\"https://colab.research.google.com/github/trailblazer015/learn-python/blob/main/string/string.ipynb\" target=\"_parent\"><img src=\"https://colab.research.google.com/assets/colab-badge.svg\" alt=\"Open In Colab\"/></a>"
      ]
    },
    {
      "cell_type": "code",
      "execution_count": null,
      "metadata": {
        "colab": {
          "base_uri": "https://localhost:8080/"
        },
        "id": "j0EvcCaiWjKp",
        "outputId": "f2e4ffc7-e161-4bb9-86e2-810b6f8d0126"
      },
      "outputs": [
        {
          "output_type": "stream",
          "name": "stdout",
          "text": [
            "hello E B\n"
          ]
        }
      ],
      "source": [
        "first_name='E'\n",
        "last_name='B'\n",
        "print('hello '+first_name+' '+last_name)"
      ]
    },
    {
      "cell_type": "code",
      "source": [
        "sentence='nice to meet you'\n",
        "print(sentence.upper())\n",
        "print(sentence.lower())\n",
        "print(sentence.capitalize())\n",
        "print(sentence.count('e'))"
      ],
      "metadata": {
        "colab": {
          "base_uri": "https://localhost:8080/"
        },
        "id": "blOiE6NiYBIS",
        "outputId": "bdbbc831-0fc5-49e8-f1b7-216630009696"
      },
      "execution_count": null,
      "outputs": [
        {
          "output_type": "stream",
          "name": "stdout",
          "text": [
            "NICE TO MEET YOU\n",
            "nice to meet you\n",
            "Nice to meet you\n",
            "3\n"
          ]
        }
      ]
    },
    {
      "cell_type": "code",
      "source": [
        "# prompt: ask about the user's first_name and last_name, then print hello + capitalized name\n",
        "\n",
        "first_name = input(\"Enter your first name: \")\n",
        "last_name = input(\"Enter your last name: \")\n",
        "\n",
        "print('hello ' + first_name.capitalize() + ' ' + last_name.capitalize())\n"
      ],
      "metadata": {
        "colab": {
          "base_uri": "https://localhost:8080/"
        },
        "id": "0uFXXV8nZi5u",
        "outputId": "29bc17da-4147-4d35-d1ed-40261aad6652"
      },
      "execution_count": null,
      "outputs": [
        {
          "output_type": "stream",
          "name": "stdout",
          "text": [
            "Enter your first name: EEEE\n",
            "Enter your last name: BBBB\n",
            "hello Eeee Bbbb\n"
          ]
        }
      ]
    },
    {
      "cell_type": "code",
      "source": [
        "#strings Format\n",
        "first_name='Eee'\n",
        "last_name='Bbb'\n",
        "output='hello, '+first_name+' '+last_name\n",
        "print(output)\n",
        "output='hello, {} {}'.format(first_name, last_name)\n",
        "print(output)\n",
        "output='hello, {0} {1}'.format(first_name, last_name)\n",
        "print(output)\n",
        "output='hello, {1} {0}'.format(first_name, last_name)\n",
        "print(output)\n",
        "#only available in python3\n",
        "output=f'hello, {first_name} {last_name}'\n",
        "print(output)"
      ],
      "metadata": {
        "colab": {
          "base_uri": "https://localhost:8080/"
        },
        "id": "x5OH4B9bbUUV",
        "outputId": "adb66f2d-a1ce-4e4a-d05b-fbef6e9c30ab"
      },
      "execution_count": 6,
      "outputs": [
        {
          "output_type": "stream",
          "name": "stdout",
          "text": [
            "hello, Eee Bbb\n",
            "hello, Eee Bbb\n",
            "hello, Eee Bbb\n",
            "hello, Bbb Eee\n",
            "hello, Eee Bbb\n"
          ]
        }
      ]
    },
    {
      "cell_type": "code",
      "source": [
        "#numbers and strings\n",
        "a=5\n",
        "b=2\n",
        "print(a+b)\n",
        "print(a-b)\n",
        "print(a*b)\n",
        "print(a/b)\n",
        "print(a//b)#忽略余数\n",
        "print(a%b)\n",
        "print(a**b)\n",
        "#convert number to string\n",
        "fays_in_jan=31\n",
        "print('there are '+str(fays_in_jan)+' days in feb')\n",
        "#convert string to number\n",
        "#input function always returns strings\n",
        "a=input('enter a number: ')\n",
        "b=input('enter a number: ')\n",
        "print(a+b)\n",
        "print(int(a)+int(b))\n",
        "print(float(a)+float(b))"
      ],
      "metadata": {
        "colab": {
          "base_uri": "https://localhost:8080/"
        },
        "id": "AUvpbYJKh58B",
        "outputId": "b8e2c760-179a-4426-d410-3ce26fa7d91e"
      },
      "execution_count": 12,
      "outputs": [
        {
          "output_type": "stream",
          "name": "stdout",
          "text": [
            "7\n",
            "3\n",
            "10\n",
            "2.5\n",
            "2\n",
            "1\n",
            "25\n",
            "there are 31 days in feb\n",
            "enter a number: 3\n",
            "enter a number: 5\n",
            "35\n",
            "8\n",
            "8.0\n"
          ]
        }
      ]
    }
  ]
}