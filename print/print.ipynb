{
  "nbformat": 4,
  "nbformat_minor": 0,
  "metadata": {
    "colab": {
      "provenance": [],
      "authorship_tag": "ABX9TyNEYW2b1jt11vjLDEXHAdhi",
      "include_colab_link": true
    },
    "kernelspec": {
      "name": "python3",
      "display_name": "Python 3"
    },
    "language_info": {
      "name": "python"
    }
  },
  "cells": [
    {
      "cell_type": "markdown",
      "metadata": {
        "id": "view-in-github",
        "colab_type": "text"
      },
      "source": [
        "<a href=\"https://colab.research.google.com/github/trailblazer015/learn-python/blob/main/print/print.ipynb\" target=\"_parent\"><img src=\"https://colab.research.google.com/assets/colab-badge.svg\" alt=\"Open In Colab\"/></a>"
      ]
    },
    {
      "cell_type": "code",
      "execution_count": null,
      "metadata": {
        "colab": {
          "base_uri": "https://localhost:8080/"
        },
        "id": "xK2cdwAVXz-V",
        "outputId": "4aa43de8-748d-40e3-f1ee-a59b7d7e67fd"
      },
      "outputs": [
        {
          "output_type": "stream",
          "name": "stdout",
          "text": [
            "hello world\n",
            "\n",
            "blank line \n",
            "test\n"
          ]
        }
      ],
      "source": [
        "print('hello world')\n",
        "print()\n",
        "print('blank line \\ntest')"
      ]
    },
    {
      "cell_type": "code",
      "source": [
        "name=input('what is your name?')\n",
        "print('hello',name)"
      ],
      "metadata": {
        "colab": {
          "base_uri": "https://localhost:8080/"
        },
        "id": "clKcBs2HnTQi",
        "outputId": "64c0f83e-ba9c-4ce1-a29c-f027ee8d1788"
      },
      "execution_count": 3,
      "outputs": [
        {
          "output_type": "stream",
          "name": "stdout",
          "text": [
            "what is your name?Yi\n",
            "hello Yi\n"
          ]
        }
      ]
    },
    {
      "cell_type": "code",
      "source": [],
      "metadata": {
        "id": "B-xJulPgnhYT"
      },
      "execution_count": null,
      "outputs": []
    }
  ]
}