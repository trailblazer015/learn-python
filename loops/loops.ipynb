{
  "nbformat": 4,
  "nbformat_minor": 0,
  "metadata": {
    "colab": {
      "provenance": [],
      "authorship_tag": "ABX9TyOvR/Ou/j9NCfl+QnyT1JYk",
      "include_colab_link": true
    },
    "kernelspec": {
      "name": "python3",
      "display_name": "Python 3"
    },
    "language_info": {
      "name": "python"
    }
  },
  "cells": [
    {
      "cell_type": "markdown",
      "metadata": {
        "id": "view-in-github",
        "colab_type": "text"
      },
      "source": [
        "<a href=\"https://colab.research.google.com/github/trailblazer015/learn-python/blob/main/loops/loops.ipynb\" target=\"_parent\"><img src=\"https://colab.research.google.com/assets/colab-badge.svg\" alt=\"Open In Colab\"/></a>"
      ]
    },
    {
      "cell_type": "code",
      "execution_count": 3,
      "metadata": {
        "colab": {
          "base_uri": "https://localhost:8080/"
        },
        "id": "upzH93zyGy4J",
        "outputId": "d6632df3-3371-4043-f341-edf0309593fd"
      },
      "outputs": [
        {
          "output_type": "stream",
          "name": "stdout",
          "text": [
            "christopher\n",
            "susan\n"
          ]
        }
      ],
      "source": [
        "#loop through a collection\n",
        "for name in ['christopher','susan']:\n",
        "  print(name)"
      ]
    },
    {
      "cell_type": "code",
      "source": [
        "#looping a number of times, use range function\n",
        "for index in range(0,2):\n",
        "  print(index)"
      ],
      "metadata": {
        "colab": {
          "base_uri": "https://localhost:8080/"
        },
        "id": "IzFEUIIgHjrZ",
        "outputId": "a6fca966-400d-47a0-9f71-df898c3afe1e"
      },
      "execution_count": 4,
      "outputs": [
        {
          "output_type": "stream",
          "name": "stdout",
          "text": [
            "0\n",
            "1\n"
          ]
        }
      ]
    },
    {
      "cell_type": "code",
      "source": [
        "#looping with a conditon\n",
        "names=['christopher','susan']\n",
        "index=0\n",
        "while index<len(names):\n",
        "  print(names[index])\n",
        "  #change conditon\n",
        "  index=index+1"
      ],
      "metadata": {
        "colab": {
          "base_uri": "https://localhost:8080/"
        },
        "id": "DjUGKtiYH_9o",
        "outputId": "dbf52b46-e758-464c-c2d8-35a1da0c5f72"
      },
      "execution_count": 5,
      "outputs": [
        {
          "output_type": "stream",
          "name": "stdout",
          "text": [
            "christopher\n",
            "susan\n"
          ]
        }
      ]
    }
  ]
}