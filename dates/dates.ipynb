{
  "nbformat": 4,
  "nbformat_minor": 0,
  "metadata": {
    "colab": {
      "provenance": [],
      "authorship_tag": "ABX9TyM9hDd/xH0vS77E6klaEFvX",
      "include_colab_link": true
    },
    "kernelspec": {
      "name": "python3",
      "display_name": "Python 3"
    },
    "language_info": {
      "name": "python"
    }
  },
  "cells": [
    {
      "cell_type": "markdown",
      "metadata": {
        "id": "view-in-github",
        "colab_type": "text"
      },
      "source": [
        "<a href=\"https://colab.research.google.com/github/trailblazer015/learn-python/blob/main/dates/dates.ipynb\" target=\"_parent\"><img src=\"https://colab.research.google.com/assets/colab-badge.svg\" alt=\"Open In Colab\"/></a>"
      ]
    },
    {
      "cell_type": "code",
      "execution_count": 1,
      "metadata": {
        "colab": {
          "base_uri": "https://localhost:8080/"
        },
        "id": "8vrocttsylYI",
        "outputId": "df3eaa9c-91b0-447b-a219-8b3975617d3e"
      },
      "outputs": [
        {
          "output_type": "stream",
          "name": "stdout",
          "text": [
            "today is: 2025-02-01 13:02:52.885372\n",
            "yesterday was: 2025-01-31 13:02:52.885372\n",
            "day: 1\n",
            "month: 2\n",
            "year: 2025\n",
            "when is your birthday (dd/mm/yyyy)? 13/02/1997\n",
            "birthday: 1997-02-13 00:00:00\n"
          ]
        }
      ],
      "source": [
        "#get datetime function from datetime library\n",
        "from datetime import datetime, timedelta\n",
        "today=datetime.now()\n",
        "print('today is: '+str(today))\n",
        "\n",
        "#timedelta is used to define a period of time\n",
        "one_day=timedelta(days=1)\n",
        "yesterday=today-one_day\n",
        "print('yesterday was: '+str(yesterday))\n",
        "print('day: '+str(today.day))\n",
        "print('month: '+str(today.month))\n",
        "print('year: '+str(today.year))\n",
        "\n",
        "#receive date as a string then convert it to a datetime object\n",
        "birthday=input('when is your birthday (dd/mm/yyyy)? ')\n",
        "birthday_date=datetime.strptime(birthday, '%d/%m/%Y')\n",
        "print('birthday: '+str(birthday_date))"
      ]
    }
  ]
}